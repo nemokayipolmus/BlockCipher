{
 "cells": [
  {
   "cell_type": "code",
   "execution_count": 17,
   "id": "9d130a8a",
   "metadata": {},
   "outputs": [],
   "source": [
    "from cryptography.hazmat.primitives.ciphers import Cipher, algorithms, modes\n",
    "from PIL import Image"
   ]
  },
  {
   "cell_type": "code",
   "execution_count": 18,
   "id": "572627f5",
   "metadata": {},
   "outputs": [],
   "source": [
    "source_image_path = \"img.png\""
   ]
  },
  {
   "cell_type": "code",
   "execution_count": 19,
   "id": "637433df",
   "metadata": {},
   "outputs": [],
   "source": [
    "key = b\"CENG474##CENG474\" #keys must be bytes like (16-byte)\n",
    "iv = b\"Assignment#####2\"\n",
    "\n",
    "resize_scale_factor = 16"
   ]
  },
  {
   "cell_type": "code",
   "execution_count": 20,
   "id": "03315402",
   "metadata": {},
   "outputs": [
    {
     "data": {
      "text/plain": [
       "<bound method Image.show of <PIL.JpegImagePlugin.JpegImageFile image mode=RGB size=640x480 at 0x21A7EC01FA0>>"
      ]
     },
     "execution_count": 20,
     "metadata": {},
     "output_type": "execute_result"
    }
   ],
   "source": [
    "# get the source image's data and properties\n",
    "with Image.open(source_image_path) as source_image:\n",
    "    data = source_image.tobytes()\n",
    "\n",
    "    size = source_image.size\n",
    "    mode = source_image.mode\n",
    "\n",
    "upscaled_size = (size[0] * resize_scale_factor, size[1] * resize_scale_factor)\n",
    "\n",
    "source_image.show\n"
   ]
  },
  {
   "cell_type": "markdown",
   "id": "3505a850",
   "metadata": {},
   "source": [
    "# ECB"
   ]
  },
  {
   "cell_type": "code",
   "execution_count": 21,
   "id": "52da8a75",
   "metadata": {},
   "outputs": [],
   "source": [
    "# create encryptor\n",
    "ecb_cipher = Cipher(algorithms.AES(key), modes.ECB())\n",
    "ecb_encryptor = ecb_cipher.encryptor()  # type: ignore\n",
    "\n",
    "# encrypt the pixel data\n",
    "ecb_ciphertext = ecb_encryptor.update(data) + ecb_encryptor.finalize()"
   ]
  },
  {
   "cell_type": "code",
   "execution_count": 22,
   "id": "1217e12d",
   "metadata": {},
   "outputs": [],
   "source": [
    "# make new image from encrypted data and save\n",
    "ecb_image = Image.frombytes(mode, size, ecb_ciphertext)\n",
    "ecb_image.save(\"img_ecb.png\")\n",
    "\n",
    "#Upscaled version\n",
    "ecb_image_upscaled = ecb_image.resize(upscaled_size, Image.NEAREST)\n",
    "ecb_image_upscaled.save(\"img_ecb_16x.png\")\n"
   ]
  },
  {
   "cell_type": "markdown",
   "id": "af9b8565",
   "metadata": {},
   "source": [
    "# CBC"
   ]
  },
  {
   "cell_type": "code",
   "execution_count": 23,
   "id": "3f910b42",
   "metadata": {},
   "outputs": [],
   "source": [
    "# create encryptor\n",
    "cbc_cipher = Cipher(algorithms.AES(key), modes.CBC(iv))\n",
    "cbc_encryptor = cbc_cipher.encryptor()  # type: ignore\n",
    "\n",
    "# encrypt the pixel data\n",
    "cbc_ciphertext = cbc_encryptor.update(data) + cbc_encryptor.finalize()"
   ]
  },
  {
   "cell_type": "code",
   "execution_count": 24,
   "id": "658be276",
   "metadata": {},
   "outputs": [],
   "source": [
    "# make new image from encrypted data and save\n",
    "cbc_image = Image.frombytes(mode, size, cbc_ciphertext)\n",
    "cbc_image.save(\"img_cbc.png\")\n",
    "\n",
    "#Upscaled version\n",
    "cbc_image_upscaled = cbc_image.resize(upscaled_size, Image.NEAREST)\n",
    "cbc_image_upscaled.save(\"img_cbc_16x.png\")\n"
   ]
  },
  {
   "cell_type": "code",
   "execution_count": null,
   "id": "e6fd1c14",
   "metadata": {},
   "outputs": [],
   "source": []
  },
  {
   "cell_type": "code",
   "execution_count": null,
   "id": "8f72b20e",
   "metadata": {},
   "outputs": [],
   "source": []
  }
 ],
 "metadata": {
  "kernelspec": {
   "display_name": "Python 3 (ipykernel)",
   "language": "python",
   "name": "python3"
  },
  "language_info": {
   "codemirror_mode": {
    "name": "ipython",
    "version": 3
   },
   "file_extension": ".py",
   "mimetype": "text/x-python",
   "name": "python",
   "nbconvert_exporter": "python",
   "pygments_lexer": "ipython3",
   "version": "3.9.7"
  }
 },
 "nbformat": 4,
 "nbformat_minor": 5
}
